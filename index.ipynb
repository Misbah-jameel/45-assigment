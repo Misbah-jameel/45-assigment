{
  "nbformat": 4,
  "nbformat_minor": 0,
  "metadata": {
    "colab": {
      "provenance": [],
      "authorship_tag": "ABX9TyPCTNv3YadQVTNOjEKWkdnt",
      "include_colab_link": true
    },
    "kernelspec": {
      "name": "python3",
      "display_name": "Python 3"
    },
    "language_info": {
      "name": "python"
    }
  },
  "cells": [
    {
      "cell_type": "markdown",
      "metadata": {
        "id": "view-in-github",
        "colab_type": "text"
      },
      "source": [
        "<a href=\"https://colab.research.google.com/github/Misbah-jameel/45-assigment/blob/main/index.ipynb\" target=\"_parent\"><img src=\"https://colab.research.google.com/assets/colab-badge.svg\" alt=\"Open In Colab\"/></a>"
      ]
    },
    {
      "cell_type": "markdown",
      "source": [],
      "metadata": {
        "id": "sFY8B7lTvZtz"
      }
    },
    {
      "cell_type": "markdown",
      "source": [
        "***Mad libs Python Project***"
      ],
      "metadata": {
        "id": "KIG5yLvYeazO"
      }
    },
    {
      "cell_type": "code",
      "source": [
        "# Mad Libs Project - Attractive and Interactive Version\n",
        "\n",
        "# Colorful Text (Optional)\n",
        "class colors:\n",
        "    HEADER = '\\033[95m'\n",
        "    BLUE = '\\033[94m'\n",
        "    GREEN = '\\033[92m'\n",
        "    YELLOW = '\\033[93m'\n",
        "    RED = '\\033[91m'\n",
        "    END = '\\033[0m'\n",
        "\n",
        "# Welcome Message\n",
        "print(colors.HEADER + \"🌟 Welcome to the Ultimate Mad Libs Generator! 🌟\" + colors.END)\n",
        "print(colors.BLUE + \"Let's create a fun and crazy story together!\" + colors.END)\n",
        "\n",
        "# Inputs with Prompts\n",
        "noun = input(colors.GREEN + \"Enter a noun (e.g., cat, city, dream): \" + colors.END)\n",
        "verb = input(colors.YELLOW + \"Enter a verb (e.g., run, dance, explore): \" + colors.END)\n",
        "noun2 = input(colors.GREEN + \"Enter another noun (e.g., mountain, pizza, adventure): \" + colors.END)\n",
        "noun3 = input(colors.GREEN + \"Enter one more noun (e.g., friend, treasure, mystery): \" + colors.END)\n",
        "verb2 = input(colors.YELLOW + \"Enter another verb (e.g., jump, sing, discover): \" + colors.END)\n",
        "noun4 = input(colors.GREEN + \"Enter a final noun (e.g., journey, party, secret): \" + colors.END)\n",
        "\n",
        "# Mad Libs Story\n",
        "madlibs = (\n",
        "    f\"\\n{colors.RED}🌟 Here's Your Mad Libs Story! 🌟{colors.END}\\n\"\n",
        "    f\"Hey! Welcome to my {colors.BLUE}{noun}{colors.END}. \"\n",
        "    f\"Here, we {colors.YELLOW}{verb}{colors.END} about {colors.BLUE}{noun2}{colors.END} \"\n",
        "    f\"and we have fun with {colors.BLUE}{noun3}{colors.END}. \"\n",
        "    f\"Make sure you {colors.YELLOW}{verb2}{colors.END} to my {colors.BLUE}{noun4}{colors.END}!\"\n",
        ")\n",
        "\n",
        "# Print the Story\n",
        "print(madlibs)\n",
        "print(colors.HEADER + \"\\nThanks for playing! 😄\" + colors.END)"
      ],
      "metadata": {
        "colab": {
          "base_uri": "https://localhost:8080/"
        },
        "id": "3Pxiol4heqyp",
        "outputId": "622ac73b-9f13-498c-f64e-8042167e80ab"
      },
      "execution_count": 4,
      "outputs": [
        {
          "output_type": "stream",
          "name": "stdout",
          "text": [
            "\u001b[95m🌟 Welcome to the Ultimate Mad Libs Generator! 🌟\u001b[0m\n",
            "\u001b[94mLet's create a fun and crazy story together!\u001b[0m\n",
            "\u001b[92mEnter a noun (e.g., cat, city, dream): \u001b[0mcity, dream\n",
            "\u001b[93mEnter a verb (e.g., run, dance, explore): \u001b[0mexplroe\n",
            "\u001b[92mEnter another noun (e.g., mountain, pizza, adventure): \u001b[0mmountain\n",
            "\u001b[92mEnter one more noun (e.g., friend, treasure, mystery): \u001b[0mfriends\n",
            "\u001b[93mEnter another verb (e.g., jump, sing, discover): \u001b[0mdiscover\n",
            "\u001b[92mEnter a final noun (e.g., journey, party, secret): \u001b[0mjourney\n",
            "\n",
            "\u001b[91m🌟 Here's Your Mad Libs Story! 🌟\u001b[0m\n",
            "Hey! Welcome to my \u001b[94mcity, dream\u001b[0m. Here, we \u001b[93mexplroe\u001b[0m about \u001b[94mmountain\u001b[0m and we have fun with \u001b[94mfriends\u001b[0m. Make sure you \u001b[93mdiscover\u001b[0m to my \u001b[94mjourney\u001b[0m!\n",
            "\u001b[95m\n",
            "Thanks for playing! 😄\u001b[0m\n"
          ]
        }
      ]
    }
  ]
}